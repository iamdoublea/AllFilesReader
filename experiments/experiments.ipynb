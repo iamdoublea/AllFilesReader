{
 "cells": [
  {
   "cell_type": "code",
   "execution_count": 2,
   "metadata": {},
   "outputs": [
    {
     "name": "stdout",
     "output_type": "stream",
     "text": [
      "Collecting h5py\n",
      "  Downloading h5py-3.11.0-cp311-cp311-win_amd64.whl (3.0 MB)\n",
      "     ---------------------------------------- 3.0/3.0 MB 5.3 MB/s eta 0:00:00\n",
      "Requirement already satisfied: numpy>=1.17.3 in c:\\users\\aadit\\appdata\\local\\programs\\python\\python311\\lib\\site-packages (from h5py) (1.24.1)\n",
      "Installing collected packages: h5py\n",
      "Successfully installed h5py-3.11.0\n"
     ]
    },
    {
     "name": "stderr",
     "output_type": "stream",
     "text": [
      "\n",
      "[notice] A new release of pip available: 22.3 -> 24.0\n",
      "[notice] To update, run: python.exe -m pip install --upgrade pip\n"
     ]
    }
   ],
   "source": [
    "!pip install h5py"
   ]
  },
  {
   "cell_type": "code",
   "execution_count": 3,
   "metadata": {},
   "outputs": [],
   "source": [
    "import pandas as pd\n",
    "import numpy as np\n",
    "import scipy.io as sio\n",
    "import h5py\n",
    "import json\n",
    "import csv\n",
    "import pickle\n",
    "from PIL import Image\n"
   ]
  },
  {
   "cell_type": "code",
   "execution_count": 5,
   "metadata": {},
   "outputs": [],
   "source": [
    "def read_date(path):\n",
    "    if path[-4:]=='.csv':\n",
    "        return pd.read_csv(path)\n",
    "    elif path[-5:]=='.exlx':\n",
    "        return pd.read_excel(path)\n",
    "    elif path[-5:]=='.json':\n",
    "        with open('data.json') as json_file:\n",
    "            json_data = json.load(json_file)\n",
    "        return json_data\n",
    "    elif path[-4:]=='.mat':\n",
    "        matlab_data = sio.loadmat('data.mat')\n",
    "        return matlab_data\n",
    "    elif path[-3:]=='.h5':\n",
    "        with h5py.File('data.h5', 'r') as hdf5_file:\n",
    "            hdf5_data = hdf5_file['data'][:]\n",
    "        return hdf5_data\n",
    "    elif path[-4:]=='.txt':\n",
    "        with open('data.txt', 'r') as txt_file:\n",
    "            txt_data = txt_file.read()\n",
    "        return txt_data\n",
    "    elif path[-4:]=='.pkl':\n",
    "        with open('data.pkl', 'rb') as pickle_file:\n",
    "            pickle_data = pickle.load(pickle_file)\n",
    "        return pickle_data\n",
    "    elif path[-4:]=='.jpg':\n",
    "        image_data = Image.open('image.jpg')\n",
    "        return image_data\n",
    "    else:\n",
    "        return 'File Not Accepted'\n",
    "        "
   ]
  },
  {
   "cell_type": "code",
   "execution_count": null,
   "metadata": {},
   "outputs": [],
   "source": []
  }
 ],
 "metadata": {
  "kernelspec": {
   "display_name": "Python 3",
   "language": "python",
   "name": "python3"
  },
  "language_info": {
   "codemirror_mode": {
    "name": "ipython",
    "version": 3
   },
   "file_extension": ".py",
   "mimetype": "text/x-python",
   "name": "python",
   "nbconvert_exporter": "python",
   "pygments_lexer": "ipython3",
   "version": "3.11.0"
  }
 },
 "nbformat": 4,
 "nbformat_minor": 2
}
